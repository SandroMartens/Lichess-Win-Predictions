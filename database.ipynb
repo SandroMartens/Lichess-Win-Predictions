{
 "cells": [
  {
   "cell_type": "code",
   "execution_count": 12,
   "metadata": {},
   "outputs": [],
   "source": [
    "import io\n",
    "import sqlite3\n",
    "\n",
    "import chess\n",
    "import chess.engine\n",
    "import chess.pgn\n",
    "import pandas as pd\n",
    "from tqdm import tqdm\n"
   ]
  },
  {
   "cell_type": "code",
   "execution_count": 13,
   "metadata": {},
   "outputs": [],
   "source": [
    "def dict_factory(cursor: sqlite3.Cursor, row: sqlite3.Row) -> dict:\n",
    "    col_names = [col[0] for col in cursor.description]\n",
    "    return dict(zip(col_names, row))\n"
   ]
  },
  {
   "cell_type": "code",
   "execution_count": 14,
   "metadata": {},
   "outputs": [],
   "source": [
    "def create_dataframe(\n",
    "    n_games: int, file_path: str\n",
    ") -> list[tuple[str, str, int, int, int]]:\n",
    "    \"\"\"Extract the following features from each game in the pgn file:\n",
    "        URL of the game,\n",
    "        PGN of the game,\n",
    "        The result\n",
    "\n",
    "    Return a list of tuples.\n",
    "    \"\"\"\n",
    "    games = []\n",
    "    with open(file_path) as pgn_file:\n",
    "        for i in range(n_games):\n",
    "            exporter = chess.pgn.StringExporter(headers=False)\n",
    "            game = chess.pgn.read_game(pgn_file)\n",
    "            if game is not None:\n",
    "                url = game.headers[\"LichessURL\"]\n",
    "                pgn = game.accept(exporter)\n",
    "                termination = game.headers[\"Termination\"]\n",
    "                elo_white = game.headers[\"WhiteElo\"]\n",
    "                elo_black = game.headers[\"BlackElo\"]\n",
    "                if game.headers[\"Result\"] == \"1-0\":\n",
    "                    result = 1\n",
    "                elif game.headers[\"Result\"] == \"0-1\":\n",
    "                    result = -1\n",
    "                else:\n",
    "                    result = 0\n",
    "            else:\n",
    "                break\n",
    "\n",
    "            if termination == \"Normal\":\n",
    "                games.append((url, pgn, result, elo_white, elo_black))\n",
    "\n",
    "    return games\n"
   ]
  },
  {
   "cell_type": "code",
   "execution_count": 16,
   "metadata": {},
   "outputs": [],
   "source": [
    "def write_games(games: list[tuple]) -> None:\n",
    "    \"\"\"Create a SQL Database with one table games, which has columns\n",
    "    URL and PGN\"\"\"\n",
    "\n",
    "    with sqlite3.connect(\"games2\") as con:\n",
    "        con.execute(\n",
    "            \"\"\"\n",
    "            CREATE TABLE IF NOT EXISTS \n",
    "                games(\n",
    "                    url TEXT ,\n",
    "                    pgn TEXT,\n",
    "                    result INTEGER,\n",
    "                    elo_white INTEGER,\n",
    "                    elo_black INTEGER,\n",
    "                    UNIQUE (url)\n",
    "                )\n",
    "            \"\"\"\n",
    "        )\n",
    "\n",
    "        con.executemany(\n",
    "            \"\"\"\n",
    "            INSERT OR IGNORE INTO \n",
    "                games(url, pgn, result, elo_white, elo_black) \n",
    "            VALUES \n",
    "                (:url, :pgn, :result, :elo_white, :elo_black)\n",
    "            \"\"\",\n",
    "            games,\n",
    "        )\n",
    "    con.close()\n"
   ]
  },
  {
   "cell_type": "code",
   "execution_count": 27,
   "metadata": {},
   "outputs": [],
   "source": [
    "def extract_positions(pgn: str) -> list[tuple[int, str]]:\n",
    "    \"\"\"Take a pgn and return a list of positions (fen) and ply numbers\"\"\"\n",
    "\n",
    "    game = chess.pgn.read_game(io.StringIO(pgn))\n",
    "    positions = []\n",
    "    if game is not None:\n",
    "        main_line = list(game.mainline())\n",
    "        for move in main_line:\n",
    "            board = move.board()\n",
    "            positions.append((board.ply(), board.fen()))\n",
    "\n",
    "        return positions\n",
    "    else: \n",
    "        raise RuntimeError\n"
   ]
  },
  {
   "cell_type": "code",
   "execution_count": 18,
   "metadata": {},
   "outputs": [],
   "source": [
    "def write_positions() -> None:\n",
    "    \"\"\"Read the pgn from the games table and write the fen and ply of each move in a new table positions\"\"\"\n",
    "\n",
    "    with sqlite3.connect(\"games2\") as con:\n",
    "        cur = con.cursor()\n",
    "        con.execute(\n",
    "            \"\"\"\n",
    "            CREATE TABLE IF NOT EXISTS \n",
    "                positions(\n",
    "                    game_id INTEGER,\n",
    "                    ply  INTEGER NOT NULL,\n",
    "                    fen TEXT,\n",
    "                    eval REAL,\n",
    "                    UNIQUE (game_id, ply)\n",
    "                )\"\"\"\n",
    "        )\n",
    "\n",
    "        cur.execute(\n",
    "            \"\"\"\n",
    "            SELECT rowid as game_id, pgn \n",
    "            FROM games\n",
    "            WHERE game_id NOT IN (\n",
    "                SELECT game_id\n",
    "                FROM positions\n",
    "            )\n",
    "            \"\"\"\n",
    "        )\n",
    "        for game_id, pgn in cur:\n",
    "            positions = extract_positions(pgn)\n",
    "            positions = [(game_id, fen, ply) for ply, fen in positions]\n",
    "            con.executemany(\n",
    "                \"\"\"\n",
    "                INSERT OR IGNORE INTO \n",
    "                    positions(game_id, fen, ply) \n",
    "                VALUES \n",
    "                    (:game_id, :fen, :ply)\n",
    "                \"\"\",\n",
    "                (positions),\n",
    "            )\n",
    "\n",
    "    cur.close()\n",
    "    con.close()\n"
   ]
  },
  {
   "cell_type": "code",
   "execution_count": 23,
   "metadata": {},
   "outputs": [],
   "source": [
    "def annotate_positions() -> None:\n",
    "    \"\"\"Read all positions and run them through stockfish. Write the results back to the db.\"\"\"\n",
    "\n",
    "    with sqlite3.connect(\"games2\") as con:\n",
    "        con.row_factory = dict_factory\n",
    "        res = con.execute(\n",
    "            \"\"\"\n",
    "            SELECT \n",
    "                rowid as position_id, fen \n",
    "            FROM positions \n",
    "            WHERE eval IS NULL\n",
    "            \"\"\"\n",
    "        )\n",
    "\n",
    "        with chess.engine.SimpleEngine.popen_uci(\n",
    "            \"F:\\Downloads\\stockfish_15_win_x64_avx2\\stockfish_15_x64_avx2.exe\"\n",
    "        ) as engine:\n",
    "            engine.configure({\"Threads\": 6, \"Use NNUE\": True, \"Hash\": 3000})\n",
    "            for i, row in enumerate(tqdm(res, unit=\"positions\")):\n",
    "                board = chess.Board(row[\"fen\"])\n",
    "                eval = (\n",
    "                    engine.analyse(board, chess.engine.Limit(depth=18, time=0.5))[\"score\"]\n",
    "                    .white()\n",
    "                    .score(mate_score=10_000)\n",
    "                )\n",
    "                con.execute(\n",
    "                    \"\"\"\n",
    "                    UPDATE positions \n",
    "                    SET eval = :eval \n",
    "                    WHERE rowid = :position_id\n",
    "                    \"\"\",\n",
    "                    {\"eval\": eval, \"position_id\": row[\"position_id\"]},\n",
    "                )\n",
    "                # Reduce overhead for commits\n",
    "                if i % 100 == 0:\n",
    "                    con.commit()\n",
    "    con.close()\n"
   ]
  },
  {
   "cell_type": "code",
   "execution_count": 26,
   "metadata": {},
   "outputs": [
    {
     "name": "stderr",
     "output_type": "stream",
     "text": [
      "4773positions [26:06,  3.05positions/s]\n"
     ]
    },
    {
     "ename": "KeyboardInterrupt",
     "evalue": "",
     "output_type": "error",
     "traceback": [
      "\u001b[1;31m---------------------------------------------------------------------------\u001b[0m",
      "\u001b[1;31mKeyboardInterrupt\u001b[0m                         Traceback (most recent call last)",
      "Cell \u001b[1;32mIn [26], line 15\u001b[0m\n\u001b[0;32m     10\u001b[0m     annotate_positions()\n\u001b[0;32m     11\u001b[0m     \u001b[39m## ignore\u001b[39;00m\n\u001b[0;32m     12\u001b[0m     \u001b[39m# write_material()\u001b[39;00m\n\u001b[1;32m---> 15\u001b[0m main()\n",
      "Cell \u001b[1;32mIn [26], line 10\u001b[0m, in \u001b[0;36mmain\u001b[1;34m()\u001b[0m\n\u001b[0;32m      8\u001b[0m write_games(df)\n\u001b[0;32m      9\u001b[0m write_positions()\n\u001b[1;32m---> 10\u001b[0m annotate_positions()\n",
      "Cell \u001b[1;32mIn [23], line 22\u001b[0m, in \u001b[0;36mannotate_positions\u001b[1;34m()\u001b[0m\n\u001b[0;32m     19\u001b[0m \u001b[39mfor\u001b[39;00m i, row \u001b[39min\u001b[39;00m \u001b[39menumerate\u001b[39m(tqdm(res, unit\u001b[39m=\u001b[39m\u001b[39m\"\u001b[39m\u001b[39mpositions\u001b[39m\u001b[39m\"\u001b[39m)):\n\u001b[0;32m     20\u001b[0m     board \u001b[39m=\u001b[39m chess\u001b[39m.\u001b[39mBoard(row[\u001b[39m\"\u001b[39m\u001b[39mfen\u001b[39m\u001b[39m\"\u001b[39m])\n\u001b[0;32m     21\u001b[0m     \u001b[39meval\u001b[39m \u001b[39m=\u001b[39m (\n\u001b[1;32m---> 22\u001b[0m         engine\u001b[39m.\u001b[39;49manalyse(board, chess\u001b[39m.\u001b[39;49mengine\u001b[39m.\u001b[39;49mLimit(depth\u001b[39m=\u001b[39;49m\u001b[39m18\u001b[39;49m))[\n\u001b[0;32m     23\u001b[0m             \u001b[39m\"\u001b[39m\u001b[39mscore\u001b[39m\u001b[39m\"\u001b[39m\n\u001b[0;32m     24\u001b[0m         ]\n\u001b[0;32m     25\u001b[0m         \u001b[39m.\u001b[39mwhite()\n\u001b[0;32m     26\u001b[0m         \u001b[39m.\u001b[39mscore(mate_score\u001b[39m=\u001b[39m\u001b[39m10_000\u001b[39m)\n\u001b[0;32m     27\u001b[0m     )\n\u001b[0;32m     28\u001b[0m     con\u001b[39m.\u001b[39mexecute(\n\u001b[0;32m     29\u001b[0m         \u001b[39m\"\"\"\u001b[39;00m\n\u001b[0;32m     30\u001b[0m \u001b[39m        UPDATE positions \u001b[39;00m\n\u001b[1;32m   (...)\u001b[0m\n\u001b[0;32m     34\u001b[0m         {\u001b[39m\"\u001b[39m\u001b[39meval\u001b[39m\u001b[39m\"\u001b[39m: \u001b[39meval\u001b[39m, \u001b[39m\"\u001b[39m\u001b[39mposition_id\u001b[39m\u001b[39m\"\u001b[39m: row[\u001b[39m\"\u001b[39m\u001b[39mposition_id\u001b[39m\u001b[39m\"\u001b[39m]},\n\u001b[0;32m     35\u001b[0m     )\n\u001b[0;32m     36\u001b[0m     \u001b[39m# Reduce overhead for commits\u001b[39;00m\n",
      "File \u001b[1;32mc:\\tools\\miniconda3\\envs\\py310\\lib\\site-packages\\chess\\engine.py:2784\u001b[0m, in \u001b[0;36mSimpleEngine.analyse\u001b[1;34m(self, board, limit, multipv, game, info, root_moves, options)\u001b[0m\n\u001b[0;32m   2780\u001b[0m     coro \u001b[39m=\u001b[39m asyncio\u001b[39m.\u001b[39mwait_for(\n\u001b[0;32m   2781\u001b[0m         \u001b[39mself\u001b[39m\u001b[39m.\u001b[39mprotocol\u001b[39m.\u001b[39manalyse(board, limit, multipv\u001b[39m=\u001b[39mmultipv, game\u001b[39m=\u001b[39mgame, info\u001b[39m=\u001b[39minfo, root_moves\u001b[39m=\u001b[39mroot_moves, options\u001b[39m=\u001b[39moptions),\n\u001b[0;32m   2782\u001b[0m         \u001b[39mself\u001b[39m\u001b[39m.\u001b[39m_timeout_for(limit))\n\u001b[0;32m   2783\u001b[0m     future \u001b[39m=\u001b[39m asyncio\u001b[39m.\u001b[39mrun_coroutine_threadsafe(coro, \u001b[39mself\u001b[39m\u001b[39m.\u001b[39mprotocol\u001b[39m.\u001b[39mloop)\n\u001b[1;32m-> 2784\u001b[0m \u001b[39mreturn\u001b[39;00m future\u001b[39m.\u001b[39;49mresult()\n",
      "File \u001b[1;32mc:\\tools\\miniconda3\\envs\\py310\\lib\\concurrent\\futures\\_base.py:453\u001b[0m, in \u001b[0;36mFuture.result\u001b[1;34m(self, timeout)\u001b[0m\n\u001b[0;32m    450\u001b[0m \u001b[39melif\u001b[39;00m \u001b[39mself\u001b[39m\u001b[39m.\u001b[39m_state \u001b[39m==\u001b[39m FINISHED:\n\u001b[0;32m    451\u001b[0m     \u001b[39mreturn\u001b[39;00m \u001b[39mself\u001b[39m\u001b[39m.\u001b[39m__get_result()\n\u001b[1;32m--> 453\u001b[0m \u001b[39mself\u001b[39;49m\u001b[39m.\u001b[39;49m_condition\u001b[39m.\u001b[39;49mwait(timeout)\n\u001b[0;32m    455\u001b[0m \u001b[39mif\u001b[39;00m \u001b[39mself\u001b[39m\u001b[39m.\u001b[39m_state \u001b[39min\u001b[39;00m [CANCELLED, CANCELLED_AND_NOTIFIED]:\n\u001b[0;32m    456\u001b[0m     \u001b[39mraise\u001b[39;00m CancelledError()\n",
      "File \u001b[1;32mc:\\tools\\miniconda3\\envs\\py310\\lib\\threading.py:320\u001b[0m, in \u001b[0;36mCondition.wait\u001b[1;34m(self, timeout)\u001b[0m\n\u001b[0;32m    318\u001b[0m \u001b[39mtry\u001b[39;00m:    \u001b[39m# restore state no matter what (e.g., KeyboardInterrupt)\u001b[39;00m\n\u001b[0;32m    319\u001b[0m     \u001b[39mif\u001b[39;00m timeout \u001b[39mis\u001b[39;00m \u001b[39mNone\u001b[39;00m:\n\u001b[1;32m--> 320\u001b[0m         waiter\u001b[39m.\u001b[39;49macquire()\n\u001b[0;32m    321\u001b[0m         gotit \u001b[39m=\u001b[39m \u001b[39mTrue\u001b[39;00m\n\u001b[0;32m    322\u001b[0m     \u001b[39melse\u001b[39;00m:\n",
      "\u001b[1;31mKeyboardInterrupt\u001b[0m: "
     ]
    }
   ],
   "source": [
    "def main():\n",
    "    file_path = \"F:\\\\Dokumente\\\\git\\\\schach\\\\lichess_elite_2022-04.pgn\"\n",
    "    n_games = 1000\n",
    "    df = create_dataframe(\n",
    "        n_games=n_games,\n",
    "        file_path=file_path,\n",
    "    )\n",
    "    write_games(df)\n",
    "    write_positions()\n",
    "    annotate_positions()\n",
    "\n",
    "main()\n"
   ]
  }
 ],
 "metadata": {
  "kernelspec": {
   "display_name": "py310",
   "language": "python",
   "name": "python3"
  },
  "language_info": {
   "codemirror_mode": {
    "name": "ipython",
    "version": 3
   },
   "file_extension": ".py",
   "mimetype": "text/x-python",
   "name": "python",
   "nbconvert_exporter": "python",
   "pygments_lexer": "ipython3",
   "version": "3.10.6"
  },
  "orig_nbformat": 4,
  "vscode": {
   "interpreter": {
    "hash": "02b645dea2b289e2486f8c02b6076cc641fbab2ddb952d458bbe38a8625994a4"
   }
  }
 },
 "nbformat": 4,
 "nbformat_minor": 2
}
